{
 "cells": [
  {
   "cell_type": "code",
   "execution_count": null,
   "metadata": {},
   "outputs": [],
   "source": [
    "# Dependências\n",
    "from components import Network, Controller\n",
    "from components.qkd.app import *\n",
    "import numpy as np"
   ]
  },
  {
   "cell_type": "code",
   "execution_count": null,
   "metadata": {},
   "outputs": [],
   "source": [
    "# Definindo rede e controlador\n",
    "rede = Network()\n",
    "rede.set_topology(\"China\")\n",
    "controlador = Controller(rede)\n",
    "\n",
    "# Algumas propriedades da rede\n",
    "rede.nqubits = 300\n",
    "rede.neprs = 3\n",
    "rede.set_fidelity(0.95)\n",
    "rede.draw()\n",
    "\n",
    "# Propriedades da simulação\n",
    "apps = [\"BB84\", \"E91\", \"B92\"]\n",
    "routes_calculation_type = 'kshortest'\n",
    "numero_requests = [100, 200, 300, 400, 500, 600, 700, 800, 900, 1000]\n",
    "n_simulacoes = 5\n",
    "caso = 1\n",
    "\n",
    "\n",
    "# Executando simulações variando o número de requisições\n",
    "for request in numero_requests:\n",
    "    vazao, taxa = run_simulations(rede, controlador, n_simulacoes, request, apps, caso, routes_calculation_type)\n",
    "    media_vazao = np.mean(vazao)\n",
    "    desvio_padrao_vazao = np.std(vazao)\n",
    "    print(f'=SPLIT(\"{formatar_numero(media_vazao)} {formatar_numero(desvio_padrao_vazao)}\"; \" \")')"
   ]
  }
 ],
 "metadata": {
  "kernelspec": {
   "display_name": "Python 3",
   "language": "python",
   "name": "python3"
  },
  "language_info": {
   "codemirror_mode": {
    "name": "ipython",
    "version": 3
   },
   "file_extension": ".py",
   "mimetype": "text/x-python",
   "name": "python",
   "nbconvert_exporter": "python",
   "pygments_lexer": "ipython3",
   "version": "3.12.0"
  }
 },
 "nbformat": 4,
 "nbformat_minor": 2
}
