{
 "cells": [
  {
   "cell_type": "markdown",
   "metadata": {},
   "source": [
    "# Simulações de rede QKD\n",
    "\n",
    "Este documento apresenta uma demonstração da criação e execução de requests em uma rede QKD com topologia de grade (pode ser alterado)."
   ]
  },
  {
   "cell_type": "code",
   "execution_count": 1,
   "metadata": {},
   "outputs": [],
   "source": [
    "# Dependências\n",
    "from components import Network, Controller\n",
    "from components.qkd.app import *\n",
    "import numpy as np"
   ]
  },
  {
   "cell_type": "code",
   "execution_count": 2,
   "metadata": {},
   "outputs": [],
   "source": [
    "# Criando a rede\n",
    "rede = Network()\n",
    "controlador = Controller(rede)"
   ]
  },
  {
   "cell_type": "code",
   "execution_count": 3,
   "metadata": {},
   "outputs": [],
   "source": [
    "# Gerando os requests\n",
    "def generate_qkd_requests(rede, num_requests, apps, case):\n",
    "        \"\"\"\n",
    "        Gera uma lista de requisições aleatórias de QKD.\n",
    "\n",
    "        Args:\n",
    "            num_requests (int): Número de requisições.\n",
    "            diff_nodes (int): Número entre os nós. Defauts to 5.\n",
    "            apps (list): Lista de apps disponíveis.\n",
    "            \n",
    "        Returns:\n",
    "            requests (list): Lista com requisições.\n",
    "        \"\"\"\n",
    "        classes = [\"Class A\", \"Class B\", \"Class C\", \"Class D\", \"Class E\"]\n",
    "        requests = []\n",
    "        \n",
    "        if case == 0:\n",
    "            class_distribution = [1/5] * 5\n",
    "        elif case == 1:\n",
    "            class_distribution = [0.2] * 5\n",
    "        elif case == 2:\n",
    "            class_distribution = [0.1, 0.1, 0.3, 0.25, 0.25]\n",
    "        elif case == 3:\n",
    "            class_distribution = [0.25, 0.25, 0.2, 0.1, 0.1]\n",
    "        elif case == 4:\n",
    "            class_distribution = [0.3, 0.3, 0.1, 0.15, 0.15]\n",
    "        else:\n",
    "            raise ValueError(\"Invalid case parameter\")\n",
    "            \n",
    "        for i in range(num_requests):\n",
    "            classe = random.choices(classes, class_distribution)[0]\n",
    "            app = random.choice(apps)\n",
    "            priority = random.randint(1, 5)\n",
    "            alice, bob = rede.random_alice_bob()\n",
    "            r = Request(classe, app, priority, alice, bob)\n",
    "            requests.append(r)\n",
    "        return requests"
   ]
  },
  {
   "cell_type": "code",
   "execution_count": 4,
   "metadata": {},
   "outputs": [],
   "source": [
    "# Propriedades para simulação\n",
    "n_simulacoes = 2\n",
    "n_requests = 10\n",
    "apps = [\"BB84\", \"E91\", \"B92\"]\n",
    "caso = 1\n",
    "rows = 3\n",
    "cols = 4\n",
    "topologia = \"Lattice\""
   ]
  },
  {
   "cell_type": "code",
   "execution_count": 5,
   "metadata": {},
   "outputs": [],
   "source": [
    "# Taxa de sucesso de bits das chaves\n",
    "taxas_sucesso_chaves_geral = []\n",
    "\n",
    "# Vazão da rede\n",
    "vazao = []"
   ]
  },
  {
   "cell_type": "code",
   "execution_count": 6,
   "metadata": {},
   "outputs": [],
   "source": [
    "# Executa num_simulacoes vezes simulações de requests\n",
    "for indice, simulacao in enumerate(range(n_simulacoes)):\n",
    "    \n",
    "    # Variáveis para coleta dos dados\n",
    "    taxas_sucesso_chaves_e91 = []\n",
    "    taxas_sucesso_chaves_bb84 = []\n",
    "    taxas_sucesso_chaves_b92 = []\n",
    "    \n",
    "    # Simulação\n",
    "    rede.set_topology(topologia, rows, cols)\n",
    "    requests = generate_qkd_requests(rede, n_requests, apps, caso)\n",
    "    resultados_simulacao = controlador.send_requests(requests, 'kshortest')\n",
    "\n",
    "    # Tratamento dos dados\n",
    "    for indice_execucao in resultados_simulacao:\n",
    "\n",
    "        # Percorre cada execução e colhe o sucesso nas chaves\n",
    "        resultado_individual_simulacao = resultados_simulacao[indice_execucao]\n",
    "        sucesso_chave = resultado_individual_simulacao['key sucess']\n",
    "\n",
    "        # Colhendo o sucesso nas chaves de cada app (Tamamnho da chave recebida/ Tamanho da chave enviada)\n",
    "        if resultado_individual_simulacao['app'] == 'BB84':\n",
    "            taxas_sucesso_chaves_bb84.append(sucesso_chave)\n",
    "            media_sucesso_chaves_bb84 = sum(taxas_sucesso_chaves_bb84) / len(taxas_sucesso_chaves_bb84)\n",
    "\n",
    "        elif resultado_individual_simulacao['app'] == 'E91':\n",
    "            taxas_sucesso_chaves_e91.append(sucesso_chave)\n",
    "            media_sucesso_chaves_e91 = sum(taxas_sucesso_chaves_e91) / len(taxas_sucesso_chaves_e91)\n",
    "\n",
    "        elif resultado_individual_simulacao['app'] == 'B92':\n",
    "            taxas_sucesso_chaves_b92.append(sucesso_chave)\n",
    "            media_sucesso_chaves_b92 = sum(taxas_sucesso_chaves_b92) / len(taxas_sucesso_chaves_b92)\n",
    "\n",
    "    # Salvando o sucesso nas chaves geral da simulação\n",
    "    lista_combinada = [taxa for sublist in [taxas_sucesso_chaves_bb84, taxas_sucesso_chaves_e91, taxas_sucesso_chaves_b92] for taxa in sublist]\n",
    "    taxas_sucesso_chaves_geral.append(sum(lista_combinada) / len(lista_combinada))\n",
    "    \n",
    "    # Calculando a vazão\n",
    "    n_execucoes = len(resultados_simulacao)\n",
    "    vazao.append(n_requests / n_execucoes)"
   ]
  },
  {
   "cell_type": "markdown",
   "metadata": {},
   "source": [
    "## Resultados"
   ]
  },
  {
   "cell_type": "code",
   "execution_count": 7,
   "metadata": {},
   "outputs": [
    {
     "name": "stdout",
     "output_type": "stream",
     "text": [
      "0.20842379504993486\n"
     ]
    }
   ],
   "source": [
    "print(np.mean(vazao))"
   ]
  },
  {
   "cell_type": "code",
   "execution_count": 8,
   "metadata": {},
   "outputs": [
    {
     "name": "stdout",
     "output_type": "stream",
     "text": [
      "0.004342162396873642\n"
     ]
    }
   ],
   "source": [
    "print(np.std(vazao))"
   ]
  },
  {
   "cell_type": "code",
   "execution_count": 9,
   "metadata": {},
   "outputs": [
    {
     "name": "stdout",
     "output_type": "stream",
     "text": [
      "0.34205210594876245\n"
     ]
    }
   ],
   "source": [
    "print(np.mean(taxas_sucesso_chaves_geral))"
   ]
  },
  {
   "cell_type": "code",
   "execution_count": 10,
   "metadata": {},
   "outputs": [
    {
     "name": "stdout",
     "output_type": "stream",
     "text": [
      "0.023501085540599237\n"
     ]
    }
   ],
   "source": [
    "print(np.std(taxas_sucesso_chaves_geral))"
   ]
  }
 ],
 "metadata": {
  "kernelspec": {
   "display_name": "Python 3",
   "language": "python",
   "name": "python3"
  },
  "language_info": {
   "codemirror_mode": {
    "name": "ipython",
    "version": 3
   },
   "file_extension": ".py",
   "mimetype": "text/x-python",
   "name": "python",
   "nbconvert_exporter": "python",
   "pygments_lexer": "ipython3",
   "version": "3.12.0"
  }
 },
 "nbformat": 4,
 "nbformat_minor": 2
}
